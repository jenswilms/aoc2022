{
 "cells": [
  {
   "cell_type": "markdown",
   "metadata": {},
   "source": [
    "Day 3:\n",
    "Rucksack, 2 compartments\n",
    "Item.type = compartment 1 / compartment 2\n",
    "Half of the items go into compartment1 the other into compartment 2\n",
    "\n",
    "Part 1:\n",
    "* cut data in half\n",
    "* find common area\n",
    "* convert to numbers\n",
    "* sum"
   ]
  },
  {
   "cell_type": "code",
   "execution_count": 38,
   "metadata": {},
   "outputs": [
    {
     "name": "stdout",
     "output_type": "stream",
     "text": [
      "8085\n"
     ]
    }
   ],
   "source": [
    "input = open(\"./input3.txt\", \"r\")\n",
    "\n",
    "totalpriority = 0\n",
    "for dirtyrucksack in input:\n",
    "    rucksack = dirtyrucksack.strip()\n",
    "    #split in half\n",
    "    middle = round(len(rucksack)/2)\n",
    "    comp1 = rucksack[:middle ]\n",
    "    comp2 = rucksack[middle:len(rucksack)]\n",
    "\n",
    "    # find intersection\n",
    "    common = \"\".join(set(comp1).intersection(comp2))\n",
    "    \n",
    "    #convert to number\n",
    "    priority = ord(common) - 96 #for lower case\n",
    "    if priority <= 0:\n",
    "        priority += 58\n",
    "    totalpriority += priority\n",
    "    \n",
    "print(totalpriority)  "
   ]
  },
  {
   "cell_type": "markdown",
   "metadata": {},
   "source": [
    "Part 2:\n",
    "Groups of 3 elfs, badge is the only item carried by all three Elves\n",
    "\n",
    "Steps:\n",
    "* Split groups in 3\n",
    "* compare\n",
    "* convert\n",
    "* sum"
   ]
  },
  {
   "cell_type": "code",
   "execution_count": 53,
   "metadata": {},
   "outputs": [
    {
     "name": "stdout",
     "output_type": "stream",
     "text": [
      "2515\n"
     ]
    }
   ],
   "source": [
    "groupcount = 0\n",
    "totalpriority = 0\n",
    "input2 = open(\"./input3.txt\", \"r\")\n",
    "input = []\n",
    "for line in input2:\n",
    "    input.append(line.strip())\n",
    "\n",
    "for index in range(len(input)):\n",
    "    if groupcount == 2:\n",
    "        \n",
    "        common = \"\".join(set(input[index - 2]).intersection(set(input[index - 1]), set(input[index])))\n",
    "    \n",
    "        #convert to number\n",
    "        priority = ord(common) - 96 #for lower case\n",
    "        if priority <= 0:\n",
    "            priority += 58\n",
    "        totalpriority += priority\n",
    "        \n",
    "        groupcount = 0\n",
    "    else: \n",
    "        groupcount += 1\n",
    "        \n",
    "print(totalpriority)"
   ]
  }
 ],
 "metadata": {
  "kernelspec": {
   "display_name": "Python 3.9.6 64-bit",
   "language": "python",
   "name": "python3"
  },
  "language_info": {
   "codemirror_mode": {
    "name": "ipython",
    "version": 3
   },
   "file_extension": ".py",
   "mimetype": "text/x-python",
   "name": "python",
   "nbconvert_exporter": "python",
   "pygments_lexer": "ipython3",
   "version": "3.9.6"
  },
  "orig_nbformat": 4,
  "vscode": {
   "interpreter": {
    "hash": "31f2aee4e71d21fbe5cf8b01ff0e069b9275f58929596ceb00d14d90e3e16cd6"
   }
  }
 },
 "nbformat": 4,
 "nbformat_minor": 2
}
