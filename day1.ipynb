{
 "cells": [
  {
   "cell_type": "code",
   "execution_count": 30,
   "metadata": {},
   "outputs": [
    {
     "name": "stdout",
     "output_type": "stream",
     "text": [
      "72070\n"
     ]
    }
   ],
   "source": [
    "# day 1 A\n",
    "\n",
    "input = open(\"./input1.txt\", \"r\")\n",
    "# question: max calories\n",
    "\n",
    "allelfbags = []\n",
    "currentelfbag = 0\n",
    "\n",
    "for line in input:\n",
    "    if line != '\\n':\n",
    "        currentelfbag += int(line)\n",
    "    else:\n",
    "        allelfbags.append(currentelfbag)\n",
    "        currentelfbag = 0\n",
    "        \n",
    "print(max(allelfbags))\n"
   ]
  },
  {
   "cell_type": "code",
   "execution_count": 31,
   "metadata": {},
   "outputs": [
    {
     "name": "stdout",
     "output_type": "stream",
     "text": [
      "211805\n"
     ]
    }
   ],
   "source": [
    "# Part 2\n",
    "\n",
    "# question: find the sum of top 3 max\n",
    "\n",
    "sumtop3 = 0\n",
    "copyallelfbags = allelfbags\n",
    "\n",
    "# find max\n",
    "# add max to sumtop3\n",
    "# delete max from list\n",
    "# repeat\n",
    "\n",
    "def findRemoveMax(list): \n",
    "    maxindex = list.index(max(list))\n",
    "    maxvalue = list[maxindex]\n",
    "    del list[maxindex]\n",
    "    return maxvalue\n",
    "\n",
    "\n",
    "for i in range(3):\n",
    "    sumtop3 += findRemoveMax(copyallelfbags)\n",
    "\n",
    "print(sumtop3)"
   ]
  }
 ],
 "metadata": {
  "kernelspec": {
   "display_name": "Python 3.9.6 64-bit",
   "language": "python",
   "name": "python3"
  },
  "language_info": {
   "codemirror_mode": {
    "name": "ipython",
    "version": 3
   },
   "file_extension": ".py",
   "mimetype": "text/x-python",
   "name": "python",
   "nbconvert_exporter": "python",
   "pygments_lexer": "ipython3",
   "version": "3.9.6"
  },
  "orig_nbformat": 4,
  "vscode": {
   "interpreter": {
    "hash": "31f2aee4e71d21fbe5cf8b01ff0e069b9275f58929596ceb00d14d90e3e16cd6"
   }
  }
 },
 "nbformat": 4,
 "nbformat_minor": 2
}
