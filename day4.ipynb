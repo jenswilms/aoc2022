{
 "cells": [
  {
   "cell_type": "markdown",
   "metadata": {},
   "source": [
    "Day 4\n",
    "Part one\n",
    "Question: for how many pairs falls one within the range of the other\n",
    "\n",
    "Strategy\n",
    "* convert pairs\n",
    "    * Split arrays = [[4, 5], [5, 3]]\n",
    "* compare beginning and end (but how)\n",
    "    * check if Abegin <= Bbegin \n",
    "        * check if Aend >= Bend\n",
    "    * or Abegin >= Bbegin\n",
    "        * check if Aend <= Bend\n"
   ]
  },
  {
   "cell_type": "code",
   "execution_count": 34,
   "metadata": {},
   "outputs": [
    {
     "name": "stdout",
     "output_type": "stream",
     "text": [
      "560\n",
      "0\n"
     ]
    }
   ],
   "source": [
    "\n",
    "input = open(\"./input4.txt\", \"r\")\n",
    "def checkWithinRange(base, target):\n",
    "    if (target[0] >= base[0]) and (target[1] <= base[1]):\n",
    "        return True\n",
    "\n",
    "    else:\n",
    "        return False\n",
    "\n",
    "def countCondition(input, condition):\n",
    "    rangecount = 0\n",
    "    for pair in input:\n",
    "        sections = pair.strip().split(',')\n",
    "        for i, section in enumerate(sections):\n",
    "            sections[i] = [int(x) for x in section.split('-')]\n",
    "        \n",
    "        if condition(sections[0], sections[1]) or condition(sections[1], sections[0]):\n",
    "            rangecount += 1\n",
    "    return rangecount \n",
    "\n",
    "print(countCondition(input, checkWithinRange))\n",
    "\n"
   ]
  },
  {
   "cell_type": "markdown",
   "metadata": {},
   "source": [
    "Part 2:\n",
    "Rather than A is subset of B, you want to see if A has any intersection with B"
   ]
  },
  {
   "cell_type": "code",
   "execution_count": 35,
   "metadata": {},
   "outputs": [
    {
     "name": "stdout",
     "output_type": "stream",
     "text": [
      "839\n"
     ]
    }
   ],
   "source": [
    "input = open(\"./input4.txt\", \"r\")\n",
    "def checkOutsideRange(base, target):\n",
    "    if (target[1] < base[0]):\n",
    "        return True\n",
    "\n",
    "    else:\n",
    "        return False\n",
    "\n",
    "rangecount = 0\n",
    "for pair in input:\n",
    "    sections = pair.strip().split(',')\n",
    "    for i, section in enumerate(sections):\n",
    "        sections[i] = [int(x) for x in section.split('-')]\n",
    "    \n",
    "    if checkOutsideRange(sections[0], sections[1]) or checkOutsideRange(sections[1], sections[0]):\n",
    "        rangecount += 1\n",
    "print(1000 - rangecount)"
   ]
  }
 ],
 "metadata": {
  "kernelspec": {
   "display_name": "Python 3.9.6 64-bit",
   "language": "python",
   "name": "python3"
  },
  "language_info": {
   "codemirror_mode": {
    "name": "ipython",
    "version": 3
   },
   "file_extension": ".py",
   "mimetype": "text/x-python",
   "name": "python",
   "nbconvert_exporter": "python",
   "pygments_lexer": "ipython3",
   "version": "3.9.6"
  },
  "orig_nbformat": 4,
  "vscode": {
   "interpreter": {
    "hash": "31f2aee4e71d21fbe5cf8b01ff0e069b9275f58929596ceb00d14d90e3e16cd6"
   }
  }
 },
 "nbformat": 4,
 "nbformat_minor": 2
}
