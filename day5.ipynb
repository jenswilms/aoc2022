{
 "cells": [
  {
   "cell_type": "markdown",
   "metadata": {},
   "source": [
    "Day 5\n",
    "Part 1\n",
    "\n",
    "Move the supplies\n",
    "\n",
    "Steps:\n",
    "* transform crane positions into arrays\n",
    "* move lines into code"
   ]
  },
  {
   "cell_type": "code",
   "execution_count": 76,
   "metadata": {},
   "outputs": [
    {
     "name": "stdout",
     "output_type": "stream",
     "text": [
      "FCVRLMVQP\n"
     ]
    }
   ],
   "source": [
    "import re\n",
    "file = open(\"./input5.txt\", \"r\").read()\n",
    "\n",
    "positionsinput = file.split(\"1\", 1)[0].split(\"\\n\")\n",
    "movesinput = file.split(\"3\", 1)[1].split(\"\\n\")\n",
    "\n",
    "def transformPositions(input):\n",
    "    positions = []\n",
    "    for line in input: \n",
    "        parts = [line[i:i+4].strip() for i in range(0, len(line), 4)]\n",
    "        if len(parts) > 1:\n",
    "            positions.append(parts)\n",
    "    positions.reverse()\n",
    "    \n",
    "    crates = []\n",
    "    for horizontal in positions:\n",
    "        for index, item in enumerate(horizontal):\n",
    "            if len(item) == 3:\n",
    "                if(len(crates) < index + 1):\n",
    "                    crates.append([item])\n",
    "                else: \n",
    "                    crates[index].append(item)\n",
    "    return crates\n",
    "    \n",
    "\n",
    "def moveCrates(crates, movesinput):    \n",
    "    for move in movesinput:\n",
    "        if move.startswith(\"move\"):\n",
    "            splittedArray = re.split(\"from|to\", move)\n",
    "            amount = int(splittedArray[0].replace(\"move \", \"\"))\n",
    "            indexes = [int(splittedArray[1]) - 1, int(splittedArray[2]) - 1]\n",
    "            \n",
    "            for i in range(amount):\n",
    "                crates[indexes[1]].append(crates[indexes[0]].pop(-1))\n",
    "                \n",
    "            \n",
    "    # get top crate\n",
    "    topcrates = \"\"\n",
    "    for crate in crates:\n",
    "        topcrates += crate[-1][1]\n",
    "        \n",
    "    return topcrates\n",
    "\n",
    "print(moveCrates(transformPositions(positionsinput), movesinput))"
   ]
  },
  {
   "cell_type": "markdown",
   "metadata": {},
   "source": [
    "Part 2:\n",
    "Change selector of moving crates"
   ]
  },
  {
   "cell_type": "code",
   "execution_count": 90,
   "metadata": {},
   "outputs": [
    {
     "name": "stdout",
     "output_type": "stream",
     "text": [
      "RWLWGJGFD\n"
     ]
    }
   ],
   "source": [
    "import re\n",
    "\n",
    "\n",
    "file = open(\"./input5.txt\", \"r\").read()\n",
    "positionsinput = file.split(\"1\", 1)[0].split(\"\\n\")\n",
    "movesinput = file.split(\"3\", 1)[1].split(\"\\n\")\n",
    "\n",
    "def transformPositions(input):\n",
    "    positions = []\n",
    "    for line in input: \n",
    "        parts = [line[i:i+4].strip() for i in range(0, len(line), 4)]\n",
    "        if len(parts) > 1:\n",
    "            positions.append(parts)\n",
    "    positions.reverse()\n",
    "    \n",
    "    crates = []\n",
    "    for horizontal in positions:\n",
    "        for index, item in enumerate(horizontal):\n",
    "            if len(item) == 3:\n",
    "                if(len(crates) < index + 1):\n",
    "                    crates.append([item])\n",
    "                else: \n",
    "                    crates[index].append(item)\n",
    "    return crates\n",
    "    \n",
    "\n",
    "def moveCrates(crates, movesinput):    \n",
    "    for move in movesinput:\n",
    "        if move.startswith(\"move\"):\n",
    "            splittedArray = re.split(\"from|to\", move)\n",
    "            amount = int(splittedArray[0].replace(\"move \", \"\"))\n",
    "            indexes = [int(splittedArray[1]) - 1, int(splittedArray[2]) - 1]\n",
    "            \n",
    "            crates[indexes[1]] += crates[indexes[0]][-abs(amount):]\n",
    "            del crates[indexes[0]][-abs(amount):]\n",
    "            \n",
    "    # get top crate\n",
    "    topcrates = \"\"\n",
    "    for crate in crates:\n",
    "        topcrates += crate[-1][1]\n",
    "        \n",
    "    return topcrates\n",
    "\n",
    "print(moveCrates(transformPositions(positionsinput), movesinput))"
   ]
  }
 ],
 "metadata": {
  "kernelspec": {
   "display_name": "Python 3.9.6 64-bit",
   "language": "python",
   "name": "python3"
  },
  "language_info": {
   "codemirror_mode": {
    "name": "ipython",
    "version": 3
   },
   "file_extension": ".py",
   "mimetype": "text/x-python",
   "name": "python",
   "nbconvert_exporter": "python",
   "pygments_lexer": "ipython3",
   "version": "3.9.6"
  },
  "orig_nbformat": 4,
  "vscode": {
   "interpreter": {
    "hash": "31f2aee4e71d21fbe5cf8b01ff0e069b9275f58929596ceb00d14d90e3e16cd6"
   }
  }
 },
 "nbformat": 4,
 "nbformat_minor": 2
}
